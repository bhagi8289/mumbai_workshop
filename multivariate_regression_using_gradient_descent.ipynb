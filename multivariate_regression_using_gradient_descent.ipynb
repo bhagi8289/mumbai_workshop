{
  "nbformat": 4,
  "nbformat_minor": 0,
  "metadata": {
    "colab": {
      "name": "multivariate_regression_using_gradient_descent.ipynb",
      "provenance": [],
      "collapsed_sections": []
    },
    "kernelspec": {
      "name": "python3",
      "display_name": "Python 3"
    }
  },
  "cells": [
    {
      "cell_type": "markdown",
      "metadata": {
        "id": "eglnweOZWyiz",
        "colab_type": "text"
      },
      "source": [
        "Implements multivariate regression using gradient descent\n",
        "\n",
        "blood fat = m1 * weight + m2 * age + b"
      ]
    },
    {
      "cell_type": "code",
      "metadata": {
        "id": "E1i8HK7KXEfu",
        "colab_type": "code",
        "colab": {
          "base_uri": "https://localhost:8080/",
          "height": 824
        },
        "outputId": "fb408c57-cb96-46fb-95ba-4a24946bcc7e"
      },
      "source": [
        "# Making the imports\n",
        "import numpy as np\n",
        "import pandas as pd\n",
        "import matplotlib.pyplot as plt\n",
        "plt.rcParams['figure.figsize'] = (12.0, 9.0)\n",
        "\n",
        "# Preprocessing Input data\n",
        "data = pd.read_csv('https://raw.githubusercontent.com/bhagi8289/datasets/master/blood-fat_vs_age_and_weight.csv')\n",
        "X = data.iloc[:, 0:2] # the last index should be 1 more than required i.e. 2 for index 0,1\n",
        "y = data.iloc[:, 2]\n",
        "data"
      ],
      "execution_count": 76,
      "outputs": [
        {
          "output_type": "execute_result",
          "data": {
            "text/html": [
              "<div>\n",
              "<style scoped>\n",
              "    .dataframe tbody tr th:only-of-type {\n",
              "        vertical-align: middle;\n",
              "    }\n",
              "\n",
              "    .dataframe tbody tr th {\n",
              "        vertical-align: top;\n",
              "    }\n",
              "\n",
              "    .dataframe thead th {\n",
              "        text-align: right;\n",
              "    }\n",
              "</style>\n",
              "<table border=\"1\" class=\"dataframe\">\n",
              "  <thead>\n",
              "    <tr style=\"text-align: right;\">\n",
              "      <th></th>\n",
              "      <th>weight</th>\n",
              "      <th>age</th>\n",
              "      <th>fat</th>\n",
              "    </tr>\n",
              "  </thead>\n",
              "  <tbody>\n",
              "    <tr>\n",
              "      <th>0</th>\n",
              "      <td>84</td>\n",
              "      <td>46</td>\n",
              "      <td>354</td>\n",
              "    </tr>\n",
              "    <tr>\n",
              "      <th>1</th>\n",
              "      <td>73</td>\n",
              "      <td>20</td>\n",
              "      <td>190</td>\n",
              "    </tr>\n",
              "    <tr>\n",
              "      <th>2</th>\n",
              "      <td>65</td>\n",
              "      <td>52</td>\n",
              "      <td>405</td>\n",
              "    </tr>\n",
              "    <tr>\n",
              "      <th>3</th>\n",
              "      <td>70</td>\n",
              "      <td>30</td>\n",
              "      <td>263</td>\n",
              "    </tr>\n",
              "    <tr>\n",
              "      <th>4</th>\n",
              "      <td>76</td>\n",
              "      <td>57</td>\n",
              "      <td>451</td>\n",
              "    </tr>\n",
              "    <tr>\n",
              "      <th>5</th>\n",
              "      <td>69</td>\n",
              "      <td>25</td>\n",
              "      <td>302</td>\n",
              "    </tr>\n",
              "    <tr>\n",
              "      <th>6</th>\n",
              "      <td>63</td>\n",
              "      <td>28</td>\n",
              "      <td>288</td>\n",
              "    </tr>\n",
              "    <tr>\n",
              "      <th>7</th>\n",
              "      <td>72</td>\n",
              "      <td>36</td>\n",
              "      <td>385</td>\n",
              "    </tr>\n",
              "    <tr>\n",
              "      <th>8</th>\n",
              "      <td>79</td>\n",
              "      <td>57</td>\n",
              "      <td>402</td>\n",
              "    </tr>\n",
              "    <tr>\n",
              "      <th>9</th>\n",
              "      <td>75</td>\n",
              "      <td>44</td>\n",
              "      <td>365</td>\n",
              "    </tr>\n",
              "    <tr>\n",
              "      <th>10</th>\n",
              "      <td>27</td>\n",
              "      <td>24</td>\n",
              "      <td>209</td>\n",
              "    </tr>\n",
              "    <tr>\n",
              "      <th>11</th>\n",
              "      <td>89</td>\n",
              "      <td>31</td>\n",
              "      <td>290</td>\n",
              "    </tr>\n",
              "    <tr>\n",
              "      <th>12</th>\n",
              "      <td>65</td>\n",
              "      <td>52</td>\n",
              "      <td>346</td>\n",
              "    </tr>\n",
              "    <tr>\n",
              "      <th>13</th>\n",
              "      <td>57</td>\n",
              "      <td>23</td>\n",
              "      <td>254</td>\n",
              "    </tr>\n",
              "    <tr>\n",
              "      <th>14</th>\n",
              "      <td>59</td>\n",
              "      <td>60</td>\n",
              "      <td>395</td>\n",
              "    </tr>\n",
              "    <tr>\n",
              "      <th>15</th>\n",
              "      <td>69</td>\n",
              "      <td>48</td>\n",
              "      <td>434</td>\n",
              "    </tr>\n",
              "    <tr>\n",
              "      <th>16</th>\n",
              "      <td>60</td>\n",
              "      <td>34</td>\n",
              "      <td>220</td>\n",
              "    </tr>\n",
              "    <tr>\n",
              "      <th>17</th>\n",
              "      <td>79</td>\n",
              "      <td>51</td>\n",
              "      <td>374</td>\n",
              "    </tr>\n",
              "    <tr>\n",
              "      <th>18</th>\n",
              "      <td>75</td>\n",
              "      <td>50</td>\n",
              "      <td>308</td>\n",
              "    </tr>\n",
              "    <tr>\n",
              "      <th>19</th>\n",
              "      <td>82</td>\n",
              "      <td>34</td>\n",
              "      <td>220</td>\n",
              "    </tr>\n",
              "    <tr>\n",
              "      <th>20</th>\n",
              "      <td>59</td>\n",
              "      <td>46</td>\n",
              "      <td>311</td>\n",
              "    </tr>\n",
              "    <tr>\n",
              "      <th>21</th>\n",
              "      <td>67</td>\n",
              "      <td>23</td>\n",
              "      <td>181</td>\n",
              "    </tr>\n",
              "    <tr>\n",
              "      <th>22</th>\n",
              "      <td>85</td>\n",
              "      <td>37</td>\n",
              "      <td>274</td>\n",
              "    </tr>\n",
              "    <tr>\n",
              "      <th>23</th>\n",
              "      <td>55</td>\n",
              "      <td>40</td>\n",
              "      <td>303</td>\n",
              "    </tr>\n",
              "    <tr>\n",
              "      <th>24</th>\n",
              "      <td>63</td>\n",
              "      <td>30</td>\n",
              "      <td>244</td>\n",
              "    </tr>\n",
              "  </tbody>\n",
              "</table>\n",
              "</div>"
            ],
            "text/plain": [
              "    weight  age  fat\n",
              "0       84   46  354\n",
              "1       73   20  190\n",
              "2       65   52  405\n",
              "3       70   30  263\n",
              "4       76   57  451\n",
              "5       69   25  302\n",
              "6       63   28  288\n",
              "7       72   36  385\n",
              "8       79   57  402\n",
              "9       75   44  365\n",
              "10      27   24  209\n",
              "11      89   31  290\n",
              "12      65   52  346\n",
              "13      57   23  254\n",
              "14      59   60  395\n",
              "15      69   48  434\n",
              "16      60   34  220\n",
              "17      79   51  374\n",
              "18      75   50  308\n",
              "19      82   34  220\n",
              "20      59   46  311\n",
              "21      67   23  181\n",
              "22      85   37  274\n",
              "23      55   40  303\n",
              "24      63   30  244"
            ]
          },
          "metadata": {
            "tags": []
          },
          "execution_count": 76
        }
      ]
    },
    {
      "cell_type": "code",
      "metadata": {
        "id": "6-VyDsUzXqJ2",
        "colab_type": "code",
        "colab": {
          "base_uri": "https://localhost:8080/",
          "height": 901
        },
        "outputId": "242e5e8d-2f2f-41ff-a1a1-4419fb851ccc"
      },
      "source": [
        "print(X)\n",
        "print(y)"
      ],
      "execution_count": 77,
      "outputs": [
        {
          "output_type": "stream",
          "text": [
            "    weight  age\n",
            "0       84   46\n",
            "1       73   20\n",
            "2       65   52\n",
            "3       70   30\n",
            "4       76   57\n",
            "5       69   25\n",
            "6       63   28\n",
            "7       72   36\n",
            "8       79   57\n",
            "9       75   44\n",
            "10      27   24\n",
            "11      89   31\n",
            "12      65   52\n",
            "13      57   23\n",
            "14      59   60\n",
            "15      69   48\n",
            "16      60   34\n",
            "17      79   51\n",
            "18      75   50\n",
            "19      82   34\n",
            "20      59   46\n",
            "21      67   23\n",
            "22      85   37\n",
            "23      55   40\n",
            "24      63   30\n",
            "0     354\n",
            "1     190\n",
            "2     405\n",
            "3     263\n",
            "4     451\n",
            "5     302\n",
            "6     288\n",
            "7     385\n",
            "8     402\n",
            "9     365\n",
            "10    209\n",
            "11    290\n",
            "12    346\n",
            "13    254\n",
            "14    395\n",
            "15    434\n",
            "16    220\n",
            "17    374\n",
            "18    308\n",
            "19    220\n",
            "20    311\n",
            "21    181\n",
            "22    274\n",
            "23    303\n",
            "24    244\n",
            "Name: fat, dtype: int64\n"
          ],
          "name": "stdout"
        }
      ]
    },
    {
      "cell_type": "code",
      "metadata": {
        "id": "i0-FMV4TXiVF",
        "colab_type": "code",
        "colab": {
          "base_uri": "https://localhost:8080/",
          "height": 537
        },
        "outputId": "4e01f55f-cc7e-403a-b528-26b38f41c08f"
      },
      "source": [
        "plt.scatter(X['weight'], y)\n",
        "plt.show()"
      ],
      "execution_count": 78,
      "outputs": [
        {
          "output_type": "display_data",
          "data": {
            "image/png": "[encoded data removed]",
            "text/plain": [
              "<Figure size 864x648 with 1 Axes>"
            ]
          },
          "metadata": {
            "tags": []
          }
        }
      ]
    },
    {
      "cell_type": "code",
      "metadata": {
        "id": "DqOJ-CZ2YVRf",
        "colab_type": "code",
        "colab": {
          "base_uri": "https://localhost:8080/",
          "height": 537
        },
        "outputId": "0596704b-da63-425d-de2f-f0024e6c0571"
      },
      "source": [
        "plt.scatter(X['age'], y)\n",
        "plt.show()"
      ],
      "execution_count": 79,
      "outputs": [
        {
          "output_type": "display_data",
          "data": {
            "image/png": "[encoded data removed]",
            "text/plain": [
              "<Figure size 864x648 with 1 Axes>"
            ]
          },
          "metadata": {
            "tags": []
          }
        }
      ]
    },
    {
      "cell_type": "markdown",
      "metadata": {
        "id": "iQy9HRN8YiFr",
        "colab_type": "text"
      },
      "source": [
        "Building the model"
      ]
    },
    {
      "cell_type": "code",
      "metadata": {
        "id": "aWQ5srOzYmV8",
        "colab_type": "code",
        "colab": {}
      },
      "source": [
        "m1 = 0\n",
        "m2 = 0\n",
        "b = 0\n",
        "L = 0.0001 #learning rate\n",
        "epochs = 10000 # number of iterations to perform gradient descent\n",
        "n = X.shape[0] # number of training examples. 25 "
      ],
      "execution_count": 0,
      "outputs": []
    },
    {
      "cell_type": "code",
      "metadata": {
        "id": "htisRlRjZPFT",
        "colab_type": "code",
        "colab": {
          "base_uri": "https://localhost:8080/",
          "height": 459
        },
        "outputId": "5af55a95-9018-4f49-b94a-e7c00459b691"
      },
      "source": [
        "print(X.weight)"
      ],
      "execution_count": 86,
      "outputs": [
        {
          "output_type": "stream",
          "text": [
            "0     84\n",
            "1     73\n",
            "2     65\n",
            "3     70\n",
            "4     76\n",
            "5     69\n",
            "6     63\n",
            "7     72\n",
            "8     79\n",
            "9     75\n",
            "10    27\n",
            "11    89\n",
            "12    65\n",
            "13    57\n",
            "14    59\n",
            "15    69\n",
            "16    60\n",
            "17    79\n",
            "18    75\n",
            "19    82\n",
            "20    59\n",
            "21    67\n",
            "22    85\n",
            "23    55\n",
            "24    63\n",
            "Name: weight, dtype: int64\n"
          ],
          "name": "stdout"
        }
      ]
    },
    {
      "cell_type": "markdown",
      "metadata": {
        "id": "H7tNNc4oZidk",
        "colab_type": "text"
      },
      "source": [
        "Perform Gradient Descent\n",
        "\n",
        "m1 = m1 - learning_rate * gradient of MSE wrt m1\n",
        "\n",
        "\n",
        "m2 = m2 - learning_rate * gradient of MSE wrt m2\n",
        "\n",
        "\n",
        "b = b - learning_rate * gradient of MSE wrt b\n"
      ]
    },
    {
      "cell_type": "code",
      "metadata": {
        "id": "BLzzFeaLZ1SV",
        "colab_type": "code",
        "colab": {}
      },
      "source": [
        "for i in range(epochs):\n",
        "  y_pred = m1 * X.weight + m2 * X.age + b\n",
        "  D_m1 = (-2/n) * sum(X.weight *(y-y_pred))\n",
        "  D_m2 = (-2/n) * sum(X.age *(y-y_pred))\n",
        "  D_b = (-2/n) * sum((y-y_pred))\n",
        "  m1 = m1 - L*D_m1\n",
        "  m2 = m2 - L*D_m2\n",
        "  b = b - L*D_b\n",
        "\n"
      ],
      "execution_count": 0,
      "outputs": []
    },
    {
      "cell_type": "code",
      "metadata": {
        "id": "vW0N6JEmZRx9",
        "colab_type": "code",
        "colab": {
          "base_uri": "https://localhost:8080/",
          "height": 34
        },
        "outputId": "94752bc9-ac2f-4e91-e8e8-000d1861b395"
      },
      "source": [
        "print(m1,m2,b)"
      ],
      "execution_count": 96,
      "outputs": [
        {
          "output_type": "stream",
          "text": [
            "1.255873522466102 5.573859997687891 4.332239561469347\n"
          ],
          "name": "stdout"
        }
      ]
    },
    {
      "cell_type": "markdown",
      "metadata": {
        "id": "x7OjMCJ8cUPp",
        "colab_type": "text"
      },
      "source": [
        "Making Prediction"
      ]
    },
    {
      "cell_type": "code",
      "metadata": {
        "id": "33uTn8XHcL6f",
        "colab_type": "code",
        "colab": {}
      },
      "source": [
        "y_pred = m1 * X.weight + m2 * X.age + b"
      ],
      "execution_count": 0,
      "outputs": []
    },
    {
      "cell_type": "code",
      "metadata": {
        "id": "JMUuAtM5clVU",
        "colab_type": "code",
        "colab": {
          "base_uri": "https://localhost:8080/",
          "height": 537
        },
        "outputId": "d63ea6b2-e69d-4758-bade-59f2135dab24"
      },
      "source": [
        "plt.scatter(X['weight'], y_pred)\n",
        "plt.plot([min(X['weight']), max(X['weight'])], [min(y_pred), max(y_pred)], color='red')  # regression line\n",
        "plt.show()"
      ],
      "execution_count": 98,
      "outputs": [
        {
          "output_type": "display_data",
          "data": {
            "image/png": "[encoded data removed]",
            "text/plain": [
              "<Figure size 864x648 with 1 Axes>"
            ]
          },
          "metadata": {
            "tags": []
          }
        }
      ]
    },
    {
      "cell_type": "code",
      "metadata": {
        "id": "ac2jZs9lc4x6",
        "colab_type": "code",
        "colab": {
          "base_uri": "https://localhost:8080/",
          "height": 554
        },
        "outputId": "bae6940a-2571-4db9-f3a4-aaf3c8daeb10"
      },
      "source": [
        "plt.scatter(X['age'], y_pred)\n",
        "print(min(X['age']), max(X['age']), min(y_pred), max(y_pred))\n",
        "plt.plot([min(X['age']), max(X['age'])], [min(y_pred), max(y_pred)], color='red',linewidth=2, markersize=12)  # regression line\n",
        "plt.show()"
      ],
      "execution_count": 99,
      "outputs": [
        {
          "output_type": "stream",
          "text": [
            "20 60 172.0134646125635 421.25626770450117\n"
          ],
          "name": "stdout"
        },
        {
          "output_type": "display_data",
          "data": {
            "image/png": "[encoded data removed]",
            "text/plain": [
              "<Figure size 864x648 with 1 Axes>"
            ]
          },
          "metadata": {
            "tags": []
          }
        }
      ]
    },
    {
      "cell_type": "markdown",
      "metadata": {
        "id": "LVyNBVUidYAO",
        "colab_type": "text"
      },
      "source": [
        "Verify the coefficients from scikit-learn regression function"
      ]
    },
    {
      "cell_type": "code",
      "metadata": {
        "id": "HGycWMdHdg0M",
        "colab_type": "code",
        "colab": {}
      },
      "source": [
        "from sklearn import linear_model\n",
        "linear_reg = linear_model.LinearRegression()\n",
        "model = linear_reg.fit(X,y)"
      ],
      "execution_count": 0,
      "outputs": []
    },
    {
      "cell_type": "code",
      "metadata": {
        "id": "z4yETvRzc__s",
        "colab_type": "code",
        "colab": {
          "base_uri": "https://localhost:8080/",
          "height": 34
        },
        "outputId": "8cb7b7b8-96f5-400e-bd94-0d4fa2fe08fa"
      },
      "source": [
        "model.coef_"
      ],
      "execution_count": 70,
      "outputs": [
        {
          "output_type": "execute_result",
          "data": {
            "text/plain": [
              "array([0.4173621 , 5.21659081])"
            ]
          },
          "metadata": {
            "tags": []
          },
          "execution_count": 70
        }
      ]
    },
    {
      "cell_type": "code",
      "metadata": {
        "id": "xqgrMWv9eaSs",
        "colab_type": "code",
        "colab": {
          "base_uri": "https://localhost:8080/",
          "height": 34
        },
        "outputId": "53f3cff7-c496-4e4f-8f5d-9e4107431062"
      },
      "source": [
        "model.intercept_"
      ],
      "execution_count": 71,
      "outputs": [
        {
          "output_type": "execute_result",
          "data": {
            "text/plain": [
              "77.98253861487566"
            ]
          },
          "metadata": {
            "tags": []
          },
          "execution_count": 71
        }
      ]
    },
    {
      "cell_type": "markdown",
      "metadata": {
        "id": "tZ8JfGd-ex6V",
        "colab_type": "text"
      },
      "source": [
        "The above values are different as only age coefficient matches:\n",
        "\n",
        "1.2997082918891625 \n",
        "\n",
        "5.592536919465359 \n",
        "\n",
        "0.48203099449180836"
      ]
    },
    {
      "cell_type": "markdown",
      "metadata": {
        "id": "wkrRrJmSfRba",
        "colab_type": "text"
      },
      "source": [
        "Check the predictions"
      ]
    },
    {
      "cell_type": "code",
      "metadata": {
        "id": "z36_gnAJfP8N",
        "colab_type": "code",
        "colab": {
          "base_uri": "https://localhost:8080/",
          "height": 136
        },
        "outputId": "4d84afd3-4124-43c6-c268-2a7aa3e4a588"
      },
      "source": [
        "predictions = model.predict(X)\n",
        "predictions"
      ],
      "execution_count": 74,
      "outputs": [
        {
          "output_type": "execute_result",
          "data": {
            "text/plain": [
              "array([353.00413212, 212.781788  , 376.37379709, 263.69560979,\n",
              "       407.04773422, 237.19529365, 250.34089349, 295.82987884,\n",
              "       408.29982052, 338.81469161, 214.44949469, 276.84208048,\n",
              "       376.37379709, 221.75376685, 415.60235097, 357.17688225,\n",
              "       280.38835204, 377.00027567, 370.11423646, 289.57031821,\n",
              "       342.57007965, 225.92738784, 306.47217694, 309.6010864 ,\n",
              "       260.7740751 ])"
            ]
          },
          "metadata": {
            "tags": []
          },
          "execution_count": 74
        }
      ]
    },
    {
      "cell_type": "markdown",
      "metadata": {
        "id": "3Gwot7CcgGRC",
        "colab_type": "text"
      },
      "source": [
        "R2 value of the model is the percentage of explained variance of the predictions."
      ]
    },
    {
      "cell_type": "code",
      "metadata": {
        "id": "6lELzjv3f_YP",
        "colab_type": "code",
        "colab": {}
      },
      "source": [
        "R2 = model.score(X,y)\n",
        "print(R2)"
      ],
      "execution_count": 0,
      "outputs": []
    },
    {
      "cell_type": "code",
      "metadata": {
        "id": "-Jem9P1xgBsn",
        "colab_type": "code",
        "colab": {}
      },
      "source": [
        "y_pred - predictions"
      ],
      "execution_count": 0,
      "outputs": []
    },
    {
      "cell_type": "code",
      "metadata": {
        "id": "ntksEOMrgoAl",
        "colab_type": "code",
        "colab": {}
      },
      "source": [
        "plt.scatter(X['weight'], predictions)\n",
        "plt.plot([min(X['weight']), max(X['weight'])], [min(predictions), max(predictions)], color='red')  # regression line\n",
        "plt.show()"
      ],
      "execution_count": 0,
      "outputs": []
    },
    {
      "cell_type": "code",
      "metadata": {
        "id": "0JLNkLq5g5Zs",
        "colab_type": "code",
        "colab": {}
      },
      "source": [
        "plt.scatter(X['age'], predictions)\n",
        "plt.plot([min(X['age']), max(X['age'])], [min(predictions), max(predictions)], color='red')  # regression line\n",
        "plt.show()"
      ],
      "execution_count": 0,
      "outputs": []
    },
    {
      "cell_type": "code",
      "metadata": {
        "id": "L30u9FGCg_wF",
        "colab_type": "code",
        "colab": {}
      },
      "source": [
        ""
      ],
      "execution_count": 0,
      "outputs": []
    }
  ]
}