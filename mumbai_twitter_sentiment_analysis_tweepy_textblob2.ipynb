{
  "nbformat": 4,
  "nbformat_minor": 0,
  "metadata": {
    "colab": {
      "name": "mumbai_twitter_sentiment_analysis_tweepy_textblob2.ipynb",
      "provenance": [],
      "collapsed_sections": []
    },
    "kernelspec": {
      "name": "python3",
      "display_name": "Python 3"
    }
  },
  "cells": [
    {
      "cell_type": "markdown",
      "metadata": {
        "id": "8f4DvKS2uU6H",
        "colab_type": "text"
      },
      "source": [
        "**Twitter Sentiment Analysis using tweepy library and TextBlob library**"
      ]
    },
    {
      "cell_type": "markdown",
      "metadata": {
        "id": "Cu99AsfLvYMK",
        "colab_type": "text"
      },
      "source": [
        "Code Source: https://www.geeksforgeeks.org/twitter-sentiment-analysis-using-python/"
      ]
    },
    {
      "cell_type": "markdown",
      "metadata": {
        "id": "rDXK65SWv4J3",
        "colab_type": "text"
      },
      "source": [
        "Tweepy: tweepy is the python client for the official Twitter API.\n",
        "Install it using following pip command:\n",
        "\n",
        "!pip install tweepy\n",
        "\n",
        "TextBlob: textblob is the python library for processing textual data.\n",
        "Install it using following pip command:\n",
        "\n",
        "!pip install textblob\n",
        "\n",
        "Also, we need to install some NLTK corpora using following command:\n",
        "!python -m textblob.download_corpora\n",
        "(Corpora is nothing but a large and structured set of texts.)"
      ]
    },
    {
      "cell_type": "code",
      "metadata": {
        "id": "QNqusRF3uiNH",
        "colab_type": "code",
        "colab": {}
      },
      "source": [
        "import textblob\n",
        "import re \n",
        "import tweepy \n",
        "from tweepy import OAuthHandler \n",
        "from textblob import TextBlob "
      ],
      "execution_count": 0,
      "outputs": []
    },
    {
      "cell_type": "code",
      "metadata": {
        "id": "KT-3t-qi7KGP",
        "colab_type": "code",
        "outputId": "bd24bcac-5043-4f1a-8544-26ccb08d4f39",
        "colab": {
          "base_uri": "https://localhost:8080/",
          "height": 816
        }
      },
      "source": [
        "class TwitterClient(object): \n",
        "\t''' \n",
        "\tGeneric Twitter Class for sentiment analysis. \n",
        "\t'''\n",
        "\tdef __init__(self): \n",
        "\t\t''' \n",
        "\t\tClass constructor or initialization method. \n",
        "\t\t'''\n",
        "\t\t# keys and tokens from the Twitter Dev Console\n",
        "\n",
        "\t\tconsumer_key = ''\n",
        "\t\tconsumer_secret = ''\n",
        "\t\taccess_token = ''\n",
        "\t\taccess_token_secret = ''\n",
        "\n",
        "\t\t# attempt authentication \n",
        "\t\ttry: \n",
        "\t\t\t# create OAuthHandler object \n",
        "\t\t\tself.auth = OAuthHandler(consumer_key, consumer_secret) \n",
        "\t\t\t# set access token and secret \n",
        "\t\t\tself.auth.set_access_token(access_token, access_token_secret) \n",
        "\t\t\t# create tweepy API object to fetch tweets \n",
        "\t\t\tself.api = tweepy.API(self.auth) \n",
        "\t\texcept: \n",
        "\t\t\tprint(\"Error: Authentication Failed\") \n",
        "\n",
        "\tdef clean_tweet(self, tweet): \n",
        "\t\t''' \n",
        "\t\tUtility function to clean tweet text by removing links, special characters \n",
        "\t\tusing simple regex statements. \n",
        "\t\t'''\n",
        "\t\treturn ' '.join(re.sub(\"(@[A-Za-z0-9]+)|([^0-9A-Za-z \\t])|(\\w+:\\/\\/\\S+)\", \" \", tweet).split()) \n",
        "\n",
        "\tdef get_tweet_sentiment(self, tweet): \n",
        "\t\t''' \n",
        "\t\tUtility function to classify sentiment of passed tweet \n",
        "\t\tusing textblob's sentiment method \n",
        "\t\t'''\n",
        "\t\t# create TextBlob object of passed tweet text \n",
        "\t\tanalysis = TextBlob(self.clean_tweet(tweet)) \n",
        "\t\t# set sentiment \n",
        "\t\tif analysis.sentiment.polarity > 0: \n",
        "\t\t\treturn 'positive'\n",
        "\t\telif analysis.sentiment.polarity == 0: \n",
        "\t\t\treturn 'neutral'\n",
        "\t\telse: \n",
        "\t\t\treturn 'negative'\n",
        "\n",
        "\tdef get_tweets(self, query, count = 100): \n",
        "\t\t''' \n",
        "\t\tMain function to fetch tweets and parse them. \n",
        "\t\t'''\n",
        "\t\t# empty list to store parsed tweets \n",
        "\t\ttweets = [] \n",
        "\n",
        "\t\ttry: \n",
        "\t\t\t# call twitter api to fetch tweets \n",
        "\t\t\tfetched_tweets = self.api.search(q = query, count = count) \n",
        "\n",
        "\t\t\t# parsing tweets one by one \n",
        "\t\t\tfor tweet in fetched_tweets: \n",
        "\t\t\t\t# empty dictionary to store required params of a tweet \n",
        "\t\t\t\tparsed_tweet = {} \n",
        "\n",
        "\t\t\t\t# saving text of tweet \n",
        "\t\t\t\tparsed_tweet['text'] = tweet.text \n",
        "\t\t\t\t# saving sentiment of tweet \n",
        "\t\t\t\tparsed_tweet['sentiment'] = self.get_tweet_sentiment(tweet.text) \n",
        "\n",
        "\t\t\t\t# appending parsed tweet to tweets list \n",
        "\t\t\t\tif tweet.retweet_count > 0: \n",
        "\t\t\t\t\t# if tweet has retweets, ensure that it is appended only once \n",
        "\t\t\t\t\tif parsed_tweet not in tweets: \n",
        "\t\t\t\t\t\ttweets.append(parsed_tweet) \n",
        "\t\t\t\telse: \n",
        "\t\t\t\t\ttweets.append(parsed_tweet) \n",
        "\n",
        "\t\t\t# return parsed tweets \n",
        "\t\t\treturn tweets \n",
        "\n",
        "\t\texcept tweepy.TweepError as e: \n",
        "\t\t\t# print error (if any) \n",
        "\t\t\tprint(\"Error : \" + str(e)) \n",
        "\n",
        "def main(): \n",
        "\t# creating object of TwitterClient Class \n",
        "\tapi = TwitterClient() \n",
        "\t# calling function to get tweets \n",
        "\ttweets = api.get_tweets(query = 'JNU', count = 200) \n",
        "\n",
        "\t# picking positive tweets from tweets \n",
        "\tptweets = [tweet for tweet in tweets if tweet['sentiment'] == 'positive'] \n",
        "\t# percentage of positive tweets \n",
        "\tprint(\"Positive tweets percentage: {} %\".format(100*len(ptweets)/len(tweets))) \n",
        "\t# picking negative tweets from tweets \n",
        "\tntweets = [tweet for tweet in tweets if tweet['sentiment'] == 'negative'] \n",
        "\t# percentage of negative tweets \n",
        "\tprint(\"Negative tweets percentage: {} %\".format(100*len(ntweets)/len(tweets))) \n",
        "\t# percentage of neutral tweets \n",
        "\t#print(\"Neutral tweets percentage: {} %\".format(100*len(tweets - ntweets - ptweets)/len(tweets))) \n",
        " \n",
        "\t# printing first 5 positive tweets \n",
        "\tprint(\"\\n\\nPositive tweets:\") \n",
        "\tfor tweet in ptweets[:10]: \n",
        "\t\tprint(tweet['text']) \n",
        "\n",
        "\t# printing first 5 negative tweets \n",
        "\tprint(\"\\n\\nNegative tweets:\") \n",
        "\tfor tweet in ntweets[:10]: \n",
        "\t\tprint(tweet['text']) \n",
        "\n",
        "if __name__ == \"__main__\": \n",
        "\t# calling main function \n",
        "\tmain() \n"
      ],
      "execution_count": 0,
      "outputs": [
        {
          "output_type": "stream",
          "text": [
            "Positive tweets percentage: 19.047619047619047 %\n",
            "Negative tweets percentage: 13.095238095238095 %\n",
            "\n",
            "\n",
            "Positive tweets:\n",
            "RT @BJP4Karnataka: For too long, Leftists have been treated with kid gloves. No wonder this \"good for nothing breed\" has grown like a Weed.…\n",
            "RT @nadeeminc: India belongs to all &amp; every citizen has their right to voice their opinions, practice and watch what we feel like.\n",
            "\n",
            "Proud o…\n",
            "RT @vivekagnihotri: Why is everyone surprised with #DeepikaPadukone supporting anti-India gang at JNU? \n",
            "\n",
            "Didn’t you know who is her real in…\n",
            "RT @ziddissk: Love u deepu❤😘\n",
            "We all stand with JNU.\n",
            "#ISupportDeepika\n",
            "#ChhapaakOnPaytm \n",
            "#ChhapakDekhoTapaakSe https://t.co/q0kTd7PTX0\n",
            "RT @SupriyaShrinate: There is no better day and time to say this to women all around, so proud to be who we are - the harbingers of change…\n",
            "RT @mvmeet: Deepika Padukone made a film based on a social issue!\n",
            "\n",
            "Now to gain publicity and to please Bollywood bigwigs \n",
            "she is supporting…\n",
            "RT @SwamiGeetika: \"This is no way to protest &amp; JNU doesn't belong to anyone's dad\"\n",
            "\n",
            "This is how this brave ABVP Cadet defied #JNU Leftists…\n",
            "RT @AiyshwaryaM: After seeing all that I saw in Delhi and JNU, I had tears listening to this beautiful rendition by Sukhnidh Kaur and Abhil…\n",
            "RT @SalmanNizami_: Dear Indians!\n",
            "\n",
            "BJP Govt is trying it's best to divert public attention from CAA/NRC issue. JNU was first attempt, there…\n",
            "RT @ajitdatta: While the media wants you to believe that JNU is busy bringing about a revolution, the world wants PM Modi to play the role…\n",
            "\n",
            "\n",
            "Negative tweets:\n",
            "RT @coolfunnytshirt: Deepika Padukone went to meet the leftist goons of JNU for the promotion of her film #Chhapaak . \n",
            "\n",
            "Ranveer Singh shoul…\n",
            "RT @OpIndia_com: \"Media Houses that have amplified a report by so called ‘Fact-Checker’ AltNews may take note\": Prasar Bharti debunks fake…\n",
            "RT @rahulkanwal: Amidst calls for his resignation, I pose some tough questions to Jawahar Lal Nehru University Vice Chancellor Prof Jagades…\n",
            "RT @_sabanaqvi: On a wet over cast day students in #delhiuniversity protest over #JNU #Jamia #CAA_NRC_NPR protest. https://t.co/pZcGH85Ufx\n",
            "RT @sushant_says: Savdhaan India fame Sushant Singh protests against JNU attack; says 'Democracy has been systematically killed' - Times of…\n",
            "RT @vivekagnihotri: Was with few housewives of posh MUMBAI locality. They believe it’s because of #JNU there is a problem with #CAA_NRC \n",
            "\n",
            "I…\n",
            "RT @TariqAyyubi: ABVP is the students wing of ruling party BJP . That's why there was no action of @DelhiPolice when ABVP Goons were attack…\n",
            "RT @ShekharGupta: It is simplistic to dismiss Deepika Padukone’s support at JNU as ‘movie promotion.’ She’s a mega star &amp; knows the risks o…\n",
            "RT @anandagarwal554: This is the reality of Bollywood and forces behind JNU violence. Deepika husband Ranbir is hugging a British fiancer o…\n",
            "RT @kaushikcbasu: After what happened in JNU, 5th January will go down as a day of shame. People of all ideologies ought to condemn this at…\n"
          ],
          "name": "stdout"
        }
      ]
    },
    {
      "cell_type": "code",
      "metadata": {
        "id": "jyszENyhsXgF",
        "colab_type": "code",
        "colab": {}
      },
      "source": [
        ""
      ],
      "execution_count": 0,
      "outputs": []
    }
  ]
}