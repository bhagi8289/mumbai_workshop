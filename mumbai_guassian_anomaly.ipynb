{
  "nbformat": 4,
  "nbformat_minor": 0,
  "metadata": {
    "colab": {
      "name": "mumbai_guassian_anomaly.ipynb",
      "provenance": [],
      "collapsed_sections": []
    },
    "kernelspec": {
      "name": "python3",
      "display_name": "Python 3"
    }
  },
  "cells": [
    {
      "cell_type": "code",
      "metadata": {
        "id": "8cj71dvRtynt",
        "colab_type": "code",
        "outputId": "09739627-287f-4acd-bef0-5e9d86504a02",
        "colab": {
          "base_uri": "https://localhost:8080/",
          "height": 359
        }
      },
      "source": [
        "import pandas as pd\n",
        "import numpy as np\n",
        "import matplotlib.pyplot as plt\n",
        "import seaborn as sns\n",
        "import matplotlib\n",
        "from sklearn.ensemble import IsolationForest\n",
        "\n",
        "df = pd.read_csv('https://raw.githubusercontent.com/bhagi8289/mumbai_workshop/master/Vidarbh_MH_Rainfall_115_Years.csv')\n",
        "df.sample(10)"
      ],
      "execution_count": 1,
      "outputs": [
        {
          "output_type": "execute_result",
          "data": {
            "text/html": [
              "<div>\n",
              "<style scoped>\n",
              "    .dataframe tbody tr th:only-of-type {\n",
              "        vertical-align: middle;\n",
              "    }\n",
              "\n",
              "    .dataframe tbody tr th {\n",
              "        vertical-align: top;\n",
              "    }\n",
              "\n",
              "    .dataframe thead th {\n",
              "        text-align: right;\n",
              "    }\n",
              "</style>\n",
              "<table border=\"1\" class=\"dataframe\">\n",
              "  <thead>\n",
              "    <tr style=\"text-align: right;\">\n",
              "      <th></th>\n",
              "      <th>Year</th>\n",
              "      <th>Jan</th>\n",
              "      <th>Feb</th>\n",
              "      <th>Mar</th>\n",
              "      <th>Apr</th>\n",
              "      <th>May</th>\n",
              "      <th>Jun</th>\n",
              "      <th>Jul</th>\n",
              "      <th>Aug</th>\n",
              "      <th>Sep</th>\n",
              "      <th>Oct</th>\n",
              "      <th>Nov</th>\n",
              "      <th>Dec</th>\n",
              "      <th>Annual</th>\n",
              "    </tr>\n",
              "  </thead>\n",
              "  <tbody>\n",
              "    <tr>\n",
              "      <th>59</th>\n",
              "      <td>1960</td>\n",
              "      <td>38.8</td>\n",
              "      <td>0.0</td>\n",
              "      <td>41.0</td>\n",
              "      <td>6.7</td>\n",
              "      <td>8.2</td>\n",
              "      <td>195.2</td>\n",
              "      <td>378.5</td>\n",
              "      <td>199.9</td>\n",
              "      <td>114.8</td>\n",
              "      <td>78.5</td>\n",
              "      <td>1.1</td>\n",
              "      <td>2.4</td>\n",
              "      <td>1065.0</td>\n",
              "    </tr>\n",
              "    <tr>\n",
              "      <th>43</th>\n",
              "      <td>1944</td>\n",
              "      <td>4.5</td>\n",
              "      <td>59.4</td>\n",
              "      <td>64.8</td>\n",
              "      <td>1.6</td>\n",
              "      <td>2.7</td>\n",
              "      <td>96.6</td>\n",
              "      <td>470.4</td>\n",
              "      <td>370.6</td>\n",
              "      <td>213.2</td>\n",
              "      <td>67.4</td>\n",
              "      <td>16.5</td>\n",
              "      <td>0.0</td>\n",
              "      <td>1367.8</td>\n",
              "    </tr>\n",
              "    <tr>\n",
              "      <th>58</th>\n",
              "      <td>1959</td>\n",
              "      <td>13.6</td>\n",
              "      <td>1.2</td>\n",
              "      <td>0.4</td>\n",
              "      <td>11.8</td>\n",
              "      <td>6.2</td>\n",
              "      <td>178.0</td>\n",
              "      <td>467.9</td>\n",
              "      <td>377.3</td>\n",
              "      <td>469.9</td>\n",
              "      <td>79.4</td>\n",
              "      <td>0.5</td>\n",
              "      <td>0.1</td>\n",
              "      <td>1606.3</td>\n",
              "    </tr>\n",
              "    <tr>\n",
              "      <th>22</th>\n",
              "      <td>1923</td>\n",
              "      <td>1.0</td>\n",
              "      <td>6.7</td>\n",
              "      <td>30.6</td>\n",
              "      <td>3.4</td>\n",
              "      <td>2.3</td>\n",
              "      <td>21.4</td>\n",
              "      <td>402.9</td>\n",
              "      <td>201.1</td>\n",
              "      <td>260.1</td>\n",
              "      <td>11.0</td>\n",
              "      <td>0.1</td>\n",
              "      <td>0.7</td>\n",
              "      <td>941.3</td>\n",
              "    </tr>\n",
              "    <tr>\n",
              "      <th>111</th>\n",
              "      <td>2012</td>\n",
              "      <td>3.1</td>\n",
              "      <td>0.1</td>\n",
              "      <td>0.0</td>\n",
              "      <td>0.6</td>\n",
              "      <td>0.2</td>\n",
              "      <td>125.5</td>\n",
              "      <td>370.5</td>\n",
              "      <td>316.2</td>\n",
              "      <td>249.4</td>\n",
              "      <td>34.9</td>\n",
              "      <td>7.3</td>\n",
              "      <td>0.0</td>\n",
              "      <td>1107.7</td>\n",
              "    </tr>\n",
              "    <tr>\n",
              "      <th>1</th>\n",
              "      <td>1902</td>\n",
              "      <td>1.6</td>\n",
              "      <td>0.1</td>\n",
              "      <td>0.0</td>\n",
              "      <td>6.5</td>\n",
              "      <td>4.1</td>\n",
              "      <td>38.0</td>\n",
              "      <td>270.7</td>\n",
              "      <td>204.7</td>\n",
              "      <td>150.9</td>\n",
              "      <td>29.6</td>\n",
              "      <td>16.1</td>\n",
              "      <td>26.7</td>\n",
              "      <td>748.9</td>\n",
              "    </tr>\n",
              "    <tr>\n",
              "      <th>16</th>\n",
              "      <td>1917</td>\n",
              "      <td>0.9</td>\n",
              "      <td>78.5</td>\n",
              "      <td>20.6</td>\n",
              "      <td>11.5</td>\n",
              "      <td>48.9</td>\n",
              "      <td>234.9</td>\n",
              "      <td>350.1</td>\n",
              "      <td>200.3</td>\n",
              "      <td>328.5</td>\n",
              "      <td>120.9</td>\n",
              "      <td>1.7</td>\n",
              "      <td>0.0</td>\n",
              "      <td>1396.9</td>\n",
              "    </tr>\n",
              "    <tr>\n",
              "      <th>54</th>\n",
              "      <td>1955</td>\n",
              "      <td>15.5</td>\n",
              "      <td>0.3</td>\n",
              "      <td>2.3</td>\n",
              "      <td>6.8</td>\n",
              "      <td>5.0</td>\n",
              "      <td>274.7</td>\n",
              "      <td>278.4</td>\n",
              "      <td>371.8</td>\n",
              "      <td>244.6</td>\n",
              "      <td>169.1</td>\n",
              "      <td>0.2</td>\n",
              "      <td>0.0</td>\n",
              "      <td>1368.7</td>\n",
              "    </tr>\n",
              "    <tr>\n",
              "      <th>90</th>\n",
              "      <td>1991</td>\n",
              "      <td>6.3</td>\n",
              "      <td>1.6</td>\n",
              "      <td>4.6</td>\n",
              "      <td>4.7</td>\n",
              "      <td>3.0</td>\n",
              "      <td>168.9</td>\n",
              "      <td>348.0</td>\n",
              "      <td>255.4</td>\n",
              "      <td>23.0</td>\n",
              "      <td>9.6</td>\n",
              "      <td>12.1</td>\n",
              "      <td>1.5</td>\n",
              "      <td>838.7</td>\n",
              "    </tr>\n",
              "    <tr>\n",
              "      <th>24</th>\n",
              "      <td>1925</td>\n",
              "      <td>0.0</td>\n",
              "      <td>0.0</td>\n",
              "      <td>7.3</td>\n",
              "      <td>5.4</td>\n",
              "      <td>28.0</td>\n",
              "      <td>130.3</td>\n",
              "      <td>293.9</td>\n",
              "      <td>307.2</td>\n",
              "      <td>77.4</td>\n",
              "      <td>21.8</td>\n",
              "      <td>61.5</td>\n",
              "      <td>8.4</td>\n",
              "      <td>941.1</td>\n",
              "    </tr>\n",
              "  </tbody>\n",
              "</table>\n",
              "</div>"
            ],
            "text/plain": [
              "     Year   Jan   Feb   Mar   Apr  ...    Sep    Oct   Nov   Dec  Annual\n",
              "59   1960  38.8   0.0  41.0   6.7  ...  114.8   78.5   1.1   2.4  1065.0\n",
              "43   1944   4.5  59.4  64.8   1.6  ...  213.2   67.4  16.5   0.0  1367.8\n",
              "58   1959  13.6   1.2   0.4  11.8  ...  469.9   79.4   0.5   0.1  1606.3\n",
              "22   1923   1.0   6.7  30.6   3.4  ...  260.1   11.0   0.1   0.7   941.3\n",
              "111  2012   3.1   0.1   0.0   0.6  ...  249.4   34.9   7.3   0.0  1107.7\n",
              "1    1902   1.6   0.1   0.0   6.5  ...  150.9   29.6  16.1  26.7   748.9\n",
              "16   1917   0.9  78.5  20.6  11.5  ...  328.5  120.9   1.7   0.0  1396.9\n",
              "54   1955  15.5   0.3   2.3   6.8  ...  244.6  169.1   0.2   0.0  1368.7\n",
              "90   1991   6.3   1.6   4.6   4.7  ...   23.0    9.6  12.1   1.5   838.7\n",
              "24   1925   0.0   0.0   7.3   5.4  ...   77.4   21.8  61.5   8.4   941.1\n",
              "\n",
              "[10 rows x 14 columns]"
            ]
          },
          "metadata": {
            "tags": []
          },
          "execution_count": 1
        }
      ]
    },
    {
      "cell_type": "code",
      "metadata": {
        "id": "3TEKP04zuWgf",
        "colab_type": "code",
        "outputId": "ee522aa2-36e0-4735-f1bd-061ad10ae3cb",
        "colab": {
          "base_uri": "https://localhost:8080/",
          "height": 570
        }
      },
      "source": [
        "df.hist()"
      ],
      "execution_count": 2,
      "outputs": [
        {
          "output_type": "execute_result",
          "data": {
            "text/plain": [
              "array([[<matplotlib.axes._subplots.AxesSubplot object at 0x7fd2e8460630>,\n",
              "        <matplotlib.axes._subplots.AxesSubplot object at 0x7fd2e83d0860>,\n",
              "        <matplotlib.axes._subplots.AxesSubplot object at 0x7fd2e8386e10>,\n",
              "        <matplotlib.axes._subplots.AxesSubplot object at 0x7fd2e83c0400>],\n",
              "       [<matplotlib.axes._subplots.AxesSubplot object at 0x7fd2e83739b0>,\n",
              "        <matplotlib.axes._subplots.AxesSubplot object at 0x7fd2e8326f60>,\n",
              "        <matplotlib.axes._subplots.AxesSubplot object at 0x7fd2e82df550>,\n",
              "        <matplotlib.axes._subplots.AxesSubplot object at 0x7fd2e8290b38>],\n",
              "       [<matplotlib.axes._subplots.AxesSubplot object at 0x7fd2e8290b70>,\n",
              "        <matplotlib.axes._subplots.AxesSubplot object at 0x7fd2e827f6a0>,\n",
              "        <matplotlib.axes._subplots.AxesSubplot object at 0x7fd2e822dc50>,\n",
              "        <matplotlib.axes._subplots.AxesSubplot object at 0x7fd2e81ed240>],\n",
              "       [<matplotlib.axes._subplots.AxesSubplot object at 0x7fd2e819e7f0>,\n",
              "        <matplotlib.axes._subplots.AxesSubplot object at 0x7fd2e814fda0>,\n",
              "        <matplotlib.axes._subplots.AxesSubplot object at 0x7fd2e810d390>,\n",
              "        <matplotlib.axes._subplots.AxesSubplot object at 0x7fd2e813a940>]],\n",
              "      dtype=object)"
            ]
          },
          "metadata": {
            "tags": []
          },
          "execution_count": 2
        },
        {
          "output_type": "display_data",
          "data": {
            "image/png": "[encoded data removed]",
            "text/plain": [
              "<Figure size 432x288 with 16 Axes>"
            ]
          },
          "metadata": {
            "tags": []
          }
        }
      ]
    },
    {
      "cell_type": "code",
      "metadata": {
        "id": "V9nSPjdkuYEW",
        "colab_type": "code",
        "outputId": "375882ed-3ab5-452a-8137-8b847dba8c07",
        "colab": {
          "base_uri": "https://localhost:8080/",
          "height": 282
        }
      },
      "source": [
        "df['Annual'].plot.hist()"
      ],
      "execution_count": 3,
      "outputs": [
        {
          "output_type": "execute_result",
          "data": {
            "text/plain": [
              "<matplotlib.axes._subplots.AxesSubplot at 0x7fd2e7a1e438>"
            ]
          },
          "metadata": {
            "tags": []
          },
          "execution_count": 3
        },
        {
          "output_type": "display_data",
          "data": {
            "image/png": "[encoded data removed]",
            "text/plain": [
              "<Figure size 432x288 with 1 Axes>"
            ]
          },
          "metadata": {
            "tags": []
          }
        }
      ]
    },
    {
      "cell_type": "code",
      "metadata": {
        "id": "NuvydRsYv5Aa",
        "colab_type": "code",
        "outputId": "1f297a47-ddd5-47b0-f75e-685703296b47",
        "colab": {
          "base_uri": "https://localhost:8080/",
          "height": 295
        }
      },
      "source": [
        "sns.distplot(df['Annual'])\n",
        "plt.title(\"Distribution of Annual Rainfall\")\n",
        "sns.despine()"
      ],
      "execution_count": 0,
      "outputs": [
        {
          "output_type": "display_data",
          "data": {
            "image/png": "[encoded data removed]",
            "text/plain": [
              "<Figure size 432x288 with 1 Axes>"
            ]
          },
          "metadata": {
            "tags": []
          }
        }
      ]
    },
    {
      "cell_type": "code",
      "metadata": {
        "id": "td1KCQsks8ap",
        "colab_type": "code",
        "colab": {
          "base_uri": "https://localhost:8080/",
          "height": 295
        },
        "outputId": "f3bcd15f-c5ee-4403-ee70-72f380c8bd74"
      },
      "source": [
        "plt.scatter(df['Year'], df['Annual'].values)\n",
        "plt.xlabel('index')\n",
        "plt.ylabel('Annual')\n",
        "plt.title(\"Annual Rainfall distribution\")\n",
        "sns.despine()"
      ],
      "execution_count": 6,
      "outputs": [
        {
          "output_type": "display_data",
          "data": {
            "image/png": "[encoded data removed]",
            "text/plain": [
              "<Figure size 432x288 with 1 Axes>"
            ]
          },
          "metadata": {
            "tags": []
          }
        }
      ]
    },
    {
      "cell_type": "code",
      "metadata": {
        "id": "iuiG5tmSwQm7",
        "colab_type": "code",
        "outputId": "6f488fbf-4732-48ba-bc3f-c1cb35b6e8e1",
        "colab": {
          "base_uri": "https://localhost:8080/",
          "height": 51
        }
      },
      "source": [
        "print(\"Skewness: %f\" % df['Annual'].skew())\n",
        "print(\"Kurtosis: %f\" % df['Annual'].kurt())"
      ],
      "execution_count": 7,
      "outputs": [
        {
          "output_type": "stream",
          "text": [
            "Skewness: 0.102160\n",
            "Kurtosis: -0.320278\n"
          ],
          "name": "stdout"
        }
      ]
    },
    {
      "cell_type": "code",
      "metadata": {
        "id": "zV4KARo4wcyw",
        "colab_type": "code",
        "outputId": "42da939b-a801-4c97-a1ea-096503fbd4d5",
        "colab": {
          "base_uri": "https://localhost:8080/",
          "height": 401
        }
      },
      "source": [
        "isolation_forest = IsolationForest(n_estimators=100)\n",
        "isolation_forest.fit(df['Annual'].values.reshape(-1, 1))\n",
        "xx = np.linspace(df['Annual'].min(), df['Annual'].max(), len(df)).reshape(-1,1)\n",
        "anomaly_score = isolation_forest.decision_function(xx)\n",
        "outlier = isolation_forest.predict(xx)\n",
        "plt.figure(figsize=(10,4))\n",
        "plt.plot(xx, anomaly_score, label='anomaly score')\n",
        "plt.fill_between(xx.T[0], np.min(anomaly_score), np.max(anomaly_score), \n",
        "                 where=outlier==-1, color='r', \n",
        "                 alpha=.4, label='outlier region')\n",
        "plt.legend()\n",
        "plt.ylabel('anomaly score')\n",
        "plt.xlabel('Annual Rainfall')\n",
        "plt.show();"
      ],
      "execution_count": 8,
      "outputs": [
        {
          "output_type": "stream",
          "text": [
            "/usr/local/lib/python3.6/dist-packages/sklearn/ensemble/iforest.py:237: FutureWarning: default contamination parameter 0.1 will change in version 0.22 to \"auto\". This will change the predict method behavior.\n",
            "  FutureWarning)\n",
            "/usr/local/lib/python3.6/dist-packages/sklearn/ensemble/iforest.py:247: FutureWarning: behaviour=\"old\" is deprecated and will be removed in version 0.22. Please use behaviour=\"new\", which makes the decision_function change to match other anomaly detection algorithm API.\n",
            "  FutureWarning)\n",
            "/usr/local/lib/python3.6/dist-packages/sklearn/ensemble/iforest.py:415: DeprecationWarning: threshold_ attribute is deprecated in 0.20 and will be removed in 0.22.\n",
            "  \" be removed in 0.22.\", DeprecationWarning)\n"
          ],
          "name": "stderr"
        },
        {
          "output_type": "display_data",
          "data": {
            "image/png": "[encoded data removed]",
            "text/plain": [
              "<Figure size 720x288 with 1 Axes>"
            ]
          },
          "metadata": {
            "tags": []
          }
        }
      ]
    },
    {
      "cell_type": "code",
      "metadata": {
        "id": "GZjzAQM9xC0k",
        "colab_type": "code",
        "colab": {}
      },
      "source": [
        "def covariance_matrix(X):\n",
        "    m, n = X.shape \n",
        "    tmp_mat = np.zeros((n, n))\n",
        "    mu = X.mean(axis=0)\n",
        "    for i in range(m):\n",
        "        tmp_mat += np.outer(X[i] - mu, X[i] - mu)\n",
        "    return tmp_mat / m"
      ],
      "execution_count": 0,
      "outputs": []
    },
    {
      "cell_type": "code",
      "metadata": {
        "id": "qSaM5Rtr9YP1",
        "colab_type": "code",
        "outputId": "570cab6d-464b-4434-92ca-903d5f54a4b4",
        "colab": {
          "base_uri": "https://localhost:8080/",
          "height": 87
        }
      },
      "source": [
        "covariance_matrix(X_train)"
      ],
      "execution_count": 0,
      "outputs": [
        {
          "output_type": "execute_result",
          "data": {
            "text/plain": [
              "array([[5861.01346629, -204.80755935, 1375.98394112, -249.65189934],\n",
              "       [-204.80755935, 8629.88432756,   37.48404631, 1828.07543794],\n",
              "       [1375.98394112,   37.48404631, 7398.53161663, -352.7001629 ],\n",
              "       [-249.65189934, 1828.07543794, -352.7001629 , 6411.59377749]])"
            ]
          },
          "metadata": {
            "tags": []
          },
          "execution_count": 34
        }
      ]
    },
    {
      "cell_type": "code",
      "metadata": {
        "id": "IMZwryTKyFZ6",
        "colab_type": "code",
        "colab": {}
      },
      "source": [
        "X = df[['Jun','Jul','Aug','Sep']]\n",
        "X_train = X.to_numpy()\n"
      ],
      "execution_count": 0,
      "outputs": []
    },
    {
      "cell_type": "code",
      "metadata": {
        "id": "NavVaEWlI73m",
        "colab_type": "code",
        "outputId": "bafcfa20-bec0-44d2-8fcc-fc3f630d3de5",
        "colab": {
          "base_uri": "https://localhost:8080/",
          "height": 1000
        }
      },
      "source": [
        "X_train"
      ],
      "execution_count": 11,
      "outputs": [
        {
          "output_type": "execute_result",
          "data": {
            "text/plain": [
              "array([[129.7, 295.3, 368.8, 123.4],\n",
              "       [ 38. , 270.7, 204.7, 150.9],\n",
              "       [121.2, 475.5, 325.5, 154.8],\n",
              "       [148.9, 158.3, 151.8, 196.9],\n",
              "       [ 81. , 254.5, 216.3, 321.3],\n",
              "       [328.1, 350.4, 325.8, 113.3],\n",
              "       [181.4, 309.7, 332.6,  59.7],\n",
              "       [232. , 355.2, 398.4, 205.9],\n",
              "       [157.1, 405. , 176. , 160.3],\n",
              "       [289.1, 297.4, 278.7, 300.3],\n",
              "       [218. , 205.9, 292.3, 176.1],\n",
              "       [ 54.2, 364.5, 391.9, 117. ],\n",
              "       [199.8, 378.3, 244.3, 137.2],\n",
              "       [239.5, 341.2, 245.6, 266.6],\n",
              "       [190.2, 311. , 229.6, 195.2],\n",
              "       [257. , 345.3, 306.2, 253.1],\n",
              "       [234.9, 350.1, 200.3, 328.5],\n",
              "       [278.3, 168. , 174.5,  55.5],\n",
              "       [325.6, 280.3, 249.8, 103.6],\n",
              "       [101.8, 237.8, 111.7,  83.3],\n",
              "       [283.9, 293. , 292. , 182.3],\n",
              "       [206.1, 361.7, 116.5, 295.3],\n",
              "       [ 21.4, 402.9, 201.1, 260.1],\n",
              "       [ 43.8, 308.3, 220.6, 217.3],\n",
              "       [130.3, 293.9, 307.2,  77.4],\n",
              "       [ 31.8, 330.6, 420. , 109.9],\n",
              "       [280.2, 414.7, 220.1,  97.7],\n",
              "       [177.8, 296.2, 185.2, 180.1],\n",
              "       [170.9, 263.5, 157.4, 193.1],\n",
              "       [181.3, 252.9, 194.4, 233.2],\n",
              "       [103.3, 380.6, 390.7, 232.9],\n",
              "       [154.2, 526.6, 176.7, 183.8],\n",
              "       [244.6, 353.7, 365.4, 301.7],\n",
              "       [169.1, 335.1, 390.9, 254.4],\n",
              "       [151.8, 528.1, 164.8, 250.4],\n",
              "       [377.5, 285.3, 308.3, 188.8],\n",
              "       [135.6, 476.2, 177.2, 226. ],\n",
              "       [354. , 425.6, 314.1, 181.6],\n",
              "       [116.1, 224.2, 385.4,  66.5],\n",
              "       [262.7, 591. , 298.6,  53.6],\n",
              "       [142.3, 338.8, 182.4, 112.8],\n",
              "       [179.4, 508.3, 366.5, 159.2],\n",
              "       [141.9, 275.1, 149.2, 277.5],\n",
              "       [ 96.6, 470.4, 370.6, 213.2],\n",
              "       [147. , 404.7, 299.6, 274.2],\n",
              "       [237. , 376.9, 292.4, 107.4],\n",
              "       [112.1, 406. , 345.8, 167.8],\n",
              "       [125.1, 374.1, 267.8, 201.1],\n",
              "       [222.7, 412.9, 266.2, 323.5],\n",
              "       [ 84.6, 375. , 143.7, 116.3],\n",
              "       [136.8, 348.8, 318.6, 123.1],\n",
              "       [ 98. , 235.1, 266.5, 146. ],\n",
              "       [138.2, 299.4, 449.9, 173. ],\n",
              "       [132.4, 407.9, 248.8, 288.3],\n",
              "       [274.7, 278.4, 371.8, 244.6],\n",
              "       [248.7, 370.5, 163.4, 198. ],\n",
              "       [148.5, 303.8, 354.2, 133.4],\n",
              "       [102.7, 341.5, 354. , 220.3],\n",
              "       [178. , 467.9, 377.3, 469.9],\n",
              "       [195.2, 378.5, 199.9, 114.8],\n",
              "       [152.7, 372.6, 401.6, 326.2],\n",
              "       [ 67.1, 364.3, 267.3, 267.2],\n",
              "       [204. , 282.1, 397.9, 123.9],\n",
              "       [166. , 259.5, 357.9, 176.8],\n",
              "       [113.6, 262. , 181. , 139.6],\n",
              "       [ 84.8, 387.5, 206.5, 191.4],\n",
              "       [184.6, 406.8, 244.8, 101.6],\n",
              "       [104.8, 291.4, 210.5, 193. ],\n",
              "       [ 98.6, 371. , 200. , 281.5],\n",
              "       [304.1, 211. , 435.6, 223.3],\n",
              "       [193.6, 124.3, 259.2, 119.5],\n",
              "       [139.8, 197.7, 280.8,  60.7],\n",
              "       [ 75.1, 428.5, 346.4, 136.4],\n",
              "       [ 93.2, 211. , 281.4,  68.1],\n",
              "       [264.3, 321.3, 316. , 288.9],\n",
              "       [ 90.8, 386. , 260.7, 174.7],\n",
              "       [169.7, 283.9, 340.8, 131.7],\n",
              "       [228. , 399.3, 430. ,  46.2],\n",
              "       [245.6, 218.2, 323.2, 143.3],\n",
              "       [253.6, 246.3, 361.8, 131.4],\n",
              "       [173.1, 302.5, 352.6, 294.5],\n",
              "       [100.6, 256.4, 206.8, 144.2],\n",
              "       [156.4, 327.9, 376.7, 289.8],\n",
              "       [105.6, 258.6, 271. ,  48.7],\n",
              "       [196.8, 271.7, 181.9,  61.9],\n",
              "       [232.8, 353.4, 382.2,  61.2],\n",
              "       [117. , 204.7, 283.7,  37.7],\n",
              "       [186.8, 485. , 286.6, 230.1],\n",
              "       [236.5, 240.6, 330.1, 118. ],\n",
              "       [303.2, 326.3, 507.3, 121.5],\n",
              "       [168.9, 348. , 255.4,  23. ],\n",
              "       [167.9, 241.3, 565.5, 116.1],\n",
              "       [145.8, 365.6, 222. , 171.3],\n",
              "       [228.6, 508.2, 343.3, 225.4],\n",
              "       [156.1, 335.8, 165.9, 201.3],\n",
              "       [ 64.4, 266. , 261.1, 149.8],\n",
              "       [108. , 248.4, 265.8, 145.7],\n",
              "       [127.5, 274. , 234.2, 247.4],\n",
              "       [228.8, 234. , 294.1, 248. ],\n",
              "       [235.9, 472.1, 286.2,  54. ],\n",
              "       [338.6, 202. , 359.8,  37.4],\n",
              "       [301.1,  88.1, 352.5, 128.6],\n",
              "       [140.2, 401. , 280.9, 138. ],\n",
              "       [137.9, 217.7, 223.1,  86.3],\n",
              "       [144.4, 393.2, 249.2, 246.8],\n",
              "       [115. , 360.8, 421.4, 175.8],\n",
              "       [256.7, 349.1, 282.4, 241.8],\n",
              "       [137.9, 261.5, 254. , 160.8],\n",
              "       [ 78.1, 310.8, 175.4,  90.3],\n",
              "       [144.8, 454.5, 384. , 238. ],\n",
              "       [137.9, 247.1, 302.8, 191. ],\n",
              "       [125.5, 370.5, 316.2, 249.4],\n",
              "       [366.7, 535.5, 326.1, 131.7],\n",
              "       [ 63.3, 337.6, 191.7, 224.9],\n",
              "       [254.6, 137.2, 288.9, 167.5],\n",
              "       [165.5, 490.2, 161.8, 227.8],\n",
              "       [147.8, 252.2, 198.3, 133.3]])"
            ]
          },
          "metadata": {
            "tags": []
          },
          "execution_count": 11
        }
      ]
    },
    {
      "cell_type": "code",
      "metadata": {
        "id": "8BsNYOX6Iopg",
        "colab_type": "code",
        "outputId": "3e729d18-8823-4c95-bd89-84b6f7225778",
        "colab": {
          "base_uri": "https://localhost:8080/",
          "height": 295
        }
      },
      "source": [
        "from sklearn.decomposition import PCA\n",
        "\n",
        "pca = PCA(2)\n",
        "\n",
        "x_pca = pca.fit_transform(X_train)\n",
        "\n",
        "x_pca = pd.DataFrame(x_pca)\n",
        "\n",
        "x_pca.columns=['PC1','PC2']\n",
        "\n",
        "\n",
        "\n",
        "# Plot\n",
        "\n",
        "import matplotlib.pyplot as plt\n",
        "\n",
        "plt.scatter(X_train[0], X_train[1], alpha=0.8)\n",
        "\n",
        "plt.title('Scatter plot')\n",
        "\n",
        "plt.xlabel('x')\n",
        "\n",
        "plt.ylabel('y')\n",
        "\n",
        "plt.show()"
      ],
      "execution_count": 12,
      "outputs": [
        {
          "output_type": "display_data",
          "data": {
            "image/png": "[encoded data removed]",
            "text/plain": [
              "<Figure size 432x288 with 1 Axes>"
            ]
          },
          "metadata": {
            "tags": []
          }
        }
      ]
    },
    {
      "cell_type": "markdown",
      "metadata": {
        "id": "PgANPbc_Q2gc",
        "colab_type": "text"
      },
      "source": [
        "Source: https://towardsdatascience.com/wondering-how-to-build-an-anomaly-detection-model-87d28e50309"
      ]
    },
    {
      "cell_type": "code",
      "metadata": {
        "id": "gQk-5RkM_AkV",
        "colab_type": "code",
        "outputId": "bcfffd72-0a46-4d64-a991-a0d5cc5db68f",
        "colab": {
          "base_uri": "https://localhost:8080/",
          "height": 102
        }
      },
      "source": [
        "X.mean()"
      ],
      "execution_count": 13,
      "outputs": [
        {
          "output_type": "execute_result",
          "data": {
            "text/plain": [
              "Jun    173.288889\n",
              "Jul    330.142735\n",
              "Aug    284.139316\n",
              "Sep    175.536752\n",
              "dtype: float64"
            ]
          },
          "metadata": {
            "tags": []
          },
          "execution_count": 13
        }
      ]
    },
    {
      "cell_type": "code",
      "metadata": {
        "id": "0LPaYZFl-sdz",
        "colab_type": "code",
        "outputId": "9e3e463e-ad9d-44ae-ffa2-6ed743eee7e2",
        "colab": {
          "base_uri": "https://localhost:8080/",
          "height": 173
        }
      },
      "source": [
        "X.cov()"
      ],
      "execution_count": 14,
      "outputs": [
        {
          "output_type": "execute_result",
          "data": {
            "text/html": [
              "<div>\n",
              "<style scoped>\n",
              "    .dataframe tbody tr th:only-of-type {\n",
              "        vertical-align: middle;\n",
              "    }\n",
              "\n",
              "    .dataframe tbody tr th {\n",
              "        vertical-align: top;\n",
              "    }\n",
              "\n",
              "    .dataframe thead th {\n",
              "        text-align: right;\n",
              "    }\n",
              "</style>\n",
              "<table border=\"1\" class=\"dataframe\">\n",
              "  <thead>\n",
              "    <tr style=\"text-align: right;\">\n",
              "      <th></th>\n",
              "      <th>Jun</th>\n",
              "      <th>Jul</th>\n",
              "      <th>Aug</th>\n",
              "      <th>Sep</th>\n",
              "    </tr>\n",
              "  </thead>\n",
              "  <tbody>\n",
              "    <tr>\n",
              "      <th>Jun</th>\n",
              "      <td>5911.539444</td>\n",
              "      <td>-206.573142</td>\n",
              "      <td>1387.845872</td>\n",
              "      <td>-251.804071</td>\n",
              "    </tr>\n",
              "    <tr>\n",
              "      <th>Jul</th>\n",
              "      <td>-206.573142</td>\n",
              "      <td>8704.279882</td>\n",
              "      <td>37.807185</td>\n",
              "      <td>1843.834709</td>\n",
              "    </tr>\n",
              "    <tr>\n",
              "      <th>Aug</th>\n",
              "      <td>1387.845872</td>\n",
              "      <td>37.807185</td>\n",
              "      <td>7462.312062</td>\n",
              "      <td>-355.740682</td>\n",
              "    </tr>\n",
              "    <tr>\n",
              "      <th>Sep</th>\n",
              "      <td>-251.804071</td>\n",
              "      <td>1843.834709</td>\n",
              "      <td>-355.740682</td>\n",
              "      <td>6466.866138</td>\n",
              "    </tr>\n",
              "  </tbody>\n",
              "</table>\n",
              "</div>"
            ],
            "text/plain": [
              "             Jun          Jul          Aug          Sep\n",
              "Jun  5911.539444  -206.573142  1387.845872  -251.804071\n",
              "Jul  -206.573142  8704.279882    37.807185  1843.834709\n",
              "Aug  1387.845872    37.807185  7462.312062  -355.740682\n",
              "Sep  -251.804071  1843.834709  -355.740682  6466.866138"
            ]
          },
          "metadata": {
            "tags": []
          },
          "execution_count": 14
        }
      ]
    },
    {
      "cell_type": "code",
      "metadata": {
        "id": "ahS53i5JyS5D",
        "colab_type": "code",
        "colab": {}
      },
      "source": [
        "cov_mat = covariance_matrix(X_train)"
      ],
      "execution_count": 0,
      "outputs": []
    },
    {
      "cell_type": "code",
      "metadata": {
        "id": "tmL5RoIRxnnb",
        "colab_type": "code",
        "outputId": "eabba444-f3c5-41c0-9065-1974a8a42c46",
        "colab": {
          "base_uri": "https://localhost:8080/",
          "height": 34
        }
      },
      "source": [
        "len(cov_mat)"
      ],
      "execution_count": 17,
      "outputs": [
        {
          "output_type": "execute_result",
          "data": {
            "text/plain": [
              "4"
            ]
          },
          "metadata": {
            "tags": []
          },
          "execution_count": 17
        }
      ]
    },
    {
      "cell_type": "code",
      "metadata": {
        "id": "_9-ZqGpTym97",
        "colab_type": "code",
        "colab": {}
      },
      "source": [
        "cov_mat_inv = np.linalg.pinv(cov_mat)\n",
        "cov_mat_det = np.linalg.det(cov_mat)"
      ],
      "execution_count": 0,
      "outputs": []
    },
    {
      "cell_type": "code",
      "metadata": {
        "id": "HMndPDnhzUVb",
        "colab_type": "code",
        "colab": {}
      },
      "source": [
        "def multi_gauss(x):\n",
        "    n = len(cov_mat)\n",
        "    return (np.exp(-0.5 * np.dot(x, np.dot(cov_mat_inv, x.T))) \n",
        "            / (2. * np.pi)**(n/2.) \n",
        "            / np.sqrt(cov_mat_det))\n"
      ],
      "execution_count": 0,
      "outputs": []
    },
    {
      "cell_type": "code",
      "metadata": {
        "id": "ow4JDDAYBTCt",
        "colab_type": "code",
        "outputId": "bae07c05-0a3e-4460-8db2-799498fd30d7",
        "colab": {
          "base_uri": "https://localhost:8080/",
          "height": 34
        }
      },
      "source": [
        "p = multi_gauss(X.loc[0].values)\n",
        "p"
      ],
      "execution_count": 21,
      "outputs": [
        {
          "output_type": "execute_result",
          "data": {
            "text/plain": [
              "1.4591702930086818e-16"
            ]
          },
          "metadata": {
            "tags": []
          },
          "execution_count": 21
        }
      ]
    },
    {
      "cell_type": "markdown",
      "metadata": {
        "id": "51K5-XIothEm",
        "colab_type": "text"
      },
      "source": [
        "**if p value is less than a threshold epsilon, then it is an anomaly.\n",
        "The value of epsilon is typically 0.02 but can also be estimated if training data is available.**"
      ]
    }
  ]
}